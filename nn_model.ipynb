{
 "cells": [
  {
   "cell_type": "code",
   "execution_count": null,
   "id": "2eb927a3",
   "metadata": {
    "collapsed": true
   },
   "outputs": [],
   "source": [
    "# Import the modules\n",
    "import pandas as pd\n",
    "from sklearn.model_selection import train_test_split\n",
    "from sklearn.preprocessing import StandardScaler\n",
    "from sklearn.metrics import accuracy_score\n",
    "import tensorflow as tf\n",
    "!pip install keras-tuner"
   ]
  },
  {
   "cell_type": "markdown",
   "id": "3367443c",
   "metadata": {},
   "source": [
    "# Dataset Preparation"
   ]
  },
  {
   "cell_type": "code",
   "execution_count": null,
   "id": "6776517a",
   "metadata": {
    "collapsed": true
   },
   "outputs": [],
   "source": [
    "# Read in the CSV\n",
    "suicides_df = pd.read_csv(\"output/suicides.csv\")\n",
    "\n",
    "suicides_df.head()"
   ]
  },
  {
   "cell_type": "code",
   "execution_count": null,
   "id": "4f72675b",
   "metadata": {
    "collapsed": true
   },
   "outputs": [],
   "source": [
    "# Make dataframe to compare suicide rate and GDP per capita\n",
    "suicides_gdp_df = suicides_df[[\"gdp_per_capita_USD\", \"suicide_tier\"]]\n",
    "suicides_gdp_df.head()"
   ]
  },
  {
   "cell_type": "code",
   "execution_count": null,
   "id": "c6c4cd64",
   "metadata": {
    "collapsed": true
   },
   "outputs": [],
   "source": [
    "# Get dummies\n",
    "country_dummies = pd.get_dummies(suicides_df[\"country\"])\n",
    "sex_dummies = pd.get_dummies(suicides_df[\"sex\"])\n",
    "age_dummies = pd.get_dummies(suicides_df[\"age\"])"
   ]
  },
  {
   "cell_type": "code",
   "execution_count": null,
   "id": "eba3ce1b",
   "metadata": {
    "collapsed": true
   },
   "outputs": [],
   "source": [
    "# Add dummies\n",
    "suicides_x_df = pd.concat([suicides_gdp_df, country_dummies, sex_dummies, age_dummies], axis=1)\n",
    "suicides_x_df.head()"
   ]
  },
  {
   "cell_type": "code",
   "execution_count": null,
   "id": "37b6803f",
   "metadata": {
    "collapsed": true
   },
   "outputs": [],
   "source": [
    "# Set target and feature sets\n",
    "y = suicides_gdp_df[\"suicide_tier\"].values\n",
    "x = suicides_x_df.drop(columns=\"suicide_tier\").values"
   ]
  },
  {
   "cell_type": "code",
   "execution_count": null,
   "id": "207ed017",
   "metadata": {
    "collapsed": true
   },
   "outputs": [],
   "source": [
    "# Split training/test datasets\n",
    "x_train, x_test, y_train, y_test = train_test_split(x, y, random_state=42)"
   ]
  },
  {
   "cell_type": "code",
   "execution_count": null,
   "id": "a417ae88",
   "metadata": {
    "collapsed": true
   },
   "outputs": [],
   "source": [
    "# Preprocess numerical data for neural network\n",
    "\n",
    "# Create a StandardScaler instances\n",
    "scaler = StandardScaler()\n",
    "\n",
    "# Fit the StandardScaler\n",
    "x_scaler = scaler.fit(x_train)\n",
    "\n",
    "# Scale the data\n",
    "x_train_scaled = x_scaler.transform(x_train)\n",
    "x_test_scaled = x_scaler.transform(x_test)"
   ]
  },
  {
   "cell_type": "markdown",
   "id": "01d924c9",
   "metadata": {},
   "source": [
    "# Prepare and run hyperparamater tuning with Keras Tuner"
   ]
  },
  {
   "cell_type": "code",
   "execution_count": null,
   "id": "dc455cf7",
   "metadata": {
    "collapsed": true
   },
   "outputs": [],
   "source": [
    "# Create a method that creates a new Sequential model with hyperparameter options\n",
    "def create_model(hp):\n",
    "    nn_model = tf.keras.models.Sequential()\n",
    "\n",
    "    # Allow kerastuner to decide which activation function to use in hidden layers\n",
    "    activation = hp.Choice('activation',['relu','tanh','sigmoid'])\n",
    "    \n",
    "    # Allow kerastuner to decide number of neurons in first layer\n",
    "    nn_model.add(tf.keras.layers.Dense(units=hp.Int('first_units',\n",
    "        min_value=1,\n",
    "        max_value=110,\n",
    "        step=2), activation=activation, input_dim=110))\n",
    "\n",
    "    # Allow kerastuner to decide number of hidden layers and neurons in hidden layers\n",
    "    for i in range(hp.Int('num_layers', 1, 6)):\n",
    "        nn_model.add(tf.keras.layers.Dense(units=hp.Int('units_' + str(i),\n",
    "            min_value=1,\n",
    "            max_value=110,\n",
    "            step=2),\n",
    "            activation=activation))\n",
    "    \n",
    "    nn_model.add(tf.keras.layers.Dense(units=1, activation=\"sigmoid\"))\n",
    "\n",
    "    # Compile the model\n",
    "    nn_model.compile(loss=\"binary_crossentropy\", optimizer='adam', metrics=[\"accuracy\"])\n",
    "    \n",
    "    return nn_model"
   ]
  },
  {
   "cell_type": "code",
   "execution_count": null,
   "id": "a0411384",
   "metadata": {
    "collapsed": true
   },
   "outputs": [],
   "source": [
    "# Import the kerastuner library\n",
    "import keras_tuner as kt\n",
    "\n",
    "tuner = kt.Hyperband(\n",
    "    create_model,\n",
    "    objective=\"val_accuracy\",\n",
    "    max_epochs=20,\n",
    "    hyperband_iterations=2)"
   ]
  },
  {
   "cell_type": "code",
   "execution_count": null,
   "id": "ea8159c3",
   "metadata": {
    "collapsed": true
   },
   "outputs": [],
   "source": [
    "# Run the kerastuner search for best hyperparameters\n",
    "tuner.search(\n",
    "    x_train_scaled,\n",
    "    y_train,epochs=20,\n",
    "    validation_data=(x_test_scaled,y_test)\n",
    ")"
   ]
  },
  {
   "cell_type": "code",
   "execution_count": null,
   "id": "2da79ead",
   "metadata": {
    "collapsed": true
   },
   "outputs": [],
   "source": [
    "# Get best model hyperparameters\n",
    "best_hyper = tuner.get_best_hyperparameters(1)[0]\n",
    "best_hyper.values"
   ]
  },
  {
   "cell_type": "code",
   "execution_count": null,
   "id": "59970329",
   "metadata": {},
   "outputs": [],
   "source": [
    "# Review summary of most accurate model\n",
    "best_model = tuner.get_best_models(1)[0]\n",
    "best_model.summary()"
   ]
  },
  {
   "cell_type": "markdown",
   "id": "60ae840a",
   "metadata": {
    "collapsed": true
   },
   "source": [
    "# Create, fit and test model based on prior parameters"
   ]
  },
  {
   "cell_type": "code",
   "execution_count": null,
   "id": "38ae84c9",
   "metadata": {
    "collapsed": true
   },
   "outputs": [],
   "source": [
    "# Define the deep learning model \n",
    "nn_model_tuned = tf.keras.models.Sequential()\n",
    "\n",
    "nn_model_tuned.add(tf.keras.layers.Dense(units=1, activation=\"tanh\"))\n",
    "\n",
    "\n",
    "# Compile the Sequential model together and customize metrics\n",
    "nn_model_tuned.compile(loss=\"binary_crossentropy\", optimizer=\"adam\", metrics=[\"accuracy\"])"
   ]
  },
  {
   "cell_type": "code",
   "execution_count": null,
   "id": "1b48e437",
   "metadata": {
    "collapsed": true
   },
   "outputs": [],
   "source": [
    "# Train the model\n",
    "fit_model_tuned = nn_model_tuned.fit(x_train_scaled, y_train, epochs=100)"
   ]
  },
  {
   "cell_type": "code",
   "execution_count": null,
   "id": "9cb20260",
   "metadata": {
    "collapsed": true
   },
   "outputs": [],
   "source": [
    "# Evaluate the model using the test data\n",
    "model_loss, model_accuracy = nn_model_tuned.evaluate(x_test_scaled,y_test,verbose=2)\n",
    "print(f\"Loss: {model_loss}, Accuracy: {model_accuracy}\")"
   ]
  },
  {
   "cell_type": "code",
   "execution_count": null,
   "id": "1a52d46b",
   "metadata": {
    "collapsed": true
   },
   "outputs": [],
   "source": []
  }
 ],
 "metadata": {
  "kernelspec": {
   "display_name": "Python 3 (ipykernel)",
   "language": "python",
   "name": "python3"
  },
  "language_info": {
   "codemirror_mode": {
    "name": "ipython",
    "version": 3
   },
   "file_extension": ".py",
   "mimetype": "text/x-python",
   "name": "python",
   "nbconvert_exporter": "python",
   "pygments_lexer": "ipython3",
   "version": "3.9.13"
  }
 },
 "nbformat": 4,
 "nbformat_minor": 5
}

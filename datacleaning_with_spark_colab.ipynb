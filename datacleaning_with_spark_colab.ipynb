{
  "cells": [
    {
      "cell_type": "code",
      "execution_count": 1,
      "id": "55a207b4",
      "metadata": {
        "colab": {
          "base_uri": "https://localhost:8080/"
        },
        "id": "55a207b4",
        "outputId": "e6b3f474-6343-4f95-94e9-f517c44d0417"
      },
      "outputs": [
        {
          "output_type": "stream",
          "name": "stdout",
          "text": [
            "\r0% [Working]\r            \rHit:1 https://cloud.r-project.org/bin/linux/ubuntu jammy-cran40/ InRelease\n",
            "Hit:2 https://developer.download.nvidia.com/compute/cuda/repos/ubuntu2204/x86_64  InRelease\n",
            "Hit:3 http://archive.ubuntu.com/ubuntu jammy InRelease\n",
            "Hit:4 http://security.ubuntu.com/ubuntu jammy-security InRelease\n",
            "Hit:5 http://archive.ubuntu.com/ubuntu jammy-updates InRelease\n",
            "Hit:6 http://archive.ubuntu.com/ubuntu jammy-backports InRelease\n",
            "Hit:7 https://ppa.launchpadcontent.net/c2d4u.team/c2d4u4.0+/ubuntu jammy InRelease\n",
            "Hit:8 https://ppa.launchpadcontent.net/deadsnakes/ppa/ubuntu jammy InRelease\n",
            "Hit:9 https://ppa.launchpadcontent.net/graphics-drivers/ppa/ubuntu jammy InRelease\n",
            "Hit:10 https://ppa.launchpadcontent.net/ubuntugis/ppa/ubuntu jammy InRelease\n",
            "Reading package lists... Done\n"
          ]
        }
      ],
      "source": [
        "import os\n",
        "# Find the latest version of spark 3.x  from http://www.apache.org/dist/spark/ and enter as the spark version\n",
        "# For example:\n",
        "# spark_version = 'spark-3.4.0'\n",
        "spark_version = 'spark-3.4.1'\n",
        "os.environ['SPARK_VERSION']=spark_version\n",
        "\n",
        "# Install Spark and Java\n",
        "!apt-get update\n",
        "!apt-get install openjdk-11-jdk-headless -qq > /dev/null\n",
        "!wget -q http://www.apache.org/dist/spark/$SPARK_VERSION/$SPARK_VERSION-bin-hadoop3.tgz\n",
        "!tar xf $SPARK_VERSION-bin-hadoop3.tgz\n",
        "!pip install -q findspark\n",
        "\n",
        "# Set Environment Variables\n",
        "os.environ[\"JAVA_HOME\"] = \"/usr/lib/jvm/java-11-openjdk-amd64\"\n",
        "os.environ[\"SPARK_HOME\"] = f\"/content/{spark_version}-bin-hadoop3\"\n",
        "\n",
        "# Start a SparkSession\n",
        "import findspark\n",
        "findspark.init()"
      ]
    },
    {
      "cell_type": "code",
      "execution_count": 2,
      "id": "16743528",
      "metadata": {
        "id": "16743528"
      },
      "outputs": [],
      "source": [
        "# Import packages\n",
        "from pyspark.sql import SparkSession\n",
        "from pyspark.sql.functions import hour, mean, round\n",
        "import time\n",
        "\n",
        "# Create a SparkSession\n",
        "spark = SparkSession.builder.appName(\"SparkSQL\").getOrCreate()"
      ]
    },
    {
      "cell_type": "code",
      "source": [
        "# Read in the csv\n",
        "from pyspark import SparkFiles\n",
        "url = \"https://raw.githubusercontent.com/ejmatthe/project-four/857fe47338c94638dc95a4d6cc5d17b2e945f272/resources/master.csv\"\n",
        "spark.sparkContext.addFile(url)\n",
        "suicides_df = spark.read.csv(SparkFiles.get(\"master.csv\"), sep=\",\", header=True)\n",
        "\n",
        "# Print head to confirm it was read in\n",
        "suicides_df.show()"
      ],
      "metadata": {
        "colab": {
          "base_uri": "https://localhost:8080/"
        },
        "id": "nLCaayiE-1T_",
        "outputId": "d1378cda-9ef6-43f5-d9e4-83bf55319806"
      },
      "id": "nLCaayiE-1T_",
      "execution_count": 3,
      "outputs": [
        {
          "output_type": "stream",
          "name": "stdout",
          "text": [
            "+-------+----+------+-----------+-----------+----------+---------------------+----------------+------------------+---------------+------------+\n",
            "|country|year|   sex|        age|suicides_no|population|suicides_per_100k_pop|gdp_for_year_USD|gdp_per_capita_USD|     generation|suicide_tier|\n",
            "+-------+----+------+-----------+-----------+----------+---------------------+----------------+------------------+---------------+------------+\n",
            "|Albania|1987|  male|15-24 years|         21|    312900|                 6.71|      2156624900|               796|   Generation X|           0|\n",
            "|Albania|1987|  male|35-54 years|         16|    308000|                 5.19|      2156624900|               796|         Silent|           0|\n",
            "|Albania|1987|female|15-24 years|         14|    289700|                 4.83|      2156624900|               796|   Generation X|           0|\n",
            "|Albania|1987|  male|  75+ years|          1|     21800|                 4.59|      2156624900|               796|G.I. Generation|           0|\n",
            "|Albania|1987|  male|25-34 years|          9|    274300|                 3.28|      2156624900|               796|        Boomers|           0|\n",
            "|Albania|1987|female|  75+ years|          1|     35600|                 2.81|      2156624900|               796|G.I. Generation|           0|\n",
            "|Albania|1987|female|35-54 years|          6|    278800|                 2.15|      2156624900|               796|         Silent|           0|\n",
            "|Albania|1987|female|25-34 years|          4|    257200|                 1.56|      2156624900|               796|        Boomers|           0|\n",
            "|Albania|1987|  male|55-74 years|          1|    137500|                 0.73|      2156624900|               796|G.I. Generation|           0|\n",
            "|Albania|1987|female| 5-14 years|          0|    311000|                    0|      2156624900|               796|   Generation X|           0|\n",
            "|Albania|1987|female|55-74 years|          0|    144600|                    0|      2156624900|               796|G.I. Generation|           0|\n",
            "|Albania|1987|  male| 5-14 years|          0|    338200|                    0|      2156624900|               796|   Generation X|           0|\n",
            "|Albania|1988|female|  75+ years|          2|     36400|                 5.49|      2126000000|               769|G.I. Generation|           0|\n",
            "|Albania|1988|  male|15-24 years|         17|    319200|                 5.33|      2126000000|               769|   Generation X|           0|\n",
            "|Albania|1988|  male|  75+ years|          1|     22300|                 4.48|      2126000000|               769|G.I. Generation|           0|\n",
            "|Albania|1988|  male|35-54 years|         14|    314100|                 4.46|      2126000000|               769|         Silent|           0|\n",
            "|Albania|1988|  male|55-74 years|          4|    140200|                 2.85|      2126000000|               769|G.I. Generation|           0|\n",
            "|Albania|1988|female|15-24 years|          8|    295600|                 2.71|      2126000000|               769|   Generation X|           0|\n",
            "|Albania|1988|female|55-74 years|          3|    147500|                 2.03|      2126000000|               769|G.I. Generation|           0|\n",
            "|Albania|1988|female|25-34 years|          5|    262400|                 1.91|      2126000000|               769|        Boomers|           0|\n",
            "+-------+----+------+-----------+-----------+----------+---------------------+----------------+------------------+---------------+------------+\n",
            "only showing top 20 rows\n",
            "\n"
          ]
        }
      ]
    },
    {
      "cell_type": "code",
      "execution_count": 5,
      "id": "b6056609",
      "metadata": {
        "id": "b6056609"
      },
      "outputs": [],
      "source": [
        "# Create a temporary view of the DataFrame.\n",
        "suicides_df.createOrReplaceTempView('suicides')"
      ]
    },
    {
      "cell_type": "code",
      "execution_count": 4,
      "id": "30c056ec",
      "metadata": {
        "id": "30c056ec"
      },
      "outputs": [],
      "source": []
    },
    {
      "cell_type": "code",
      "execution_count": 4,
      "id": "0513131e",
      "metadata": {
        "id": "0513131e"
      },
      "outputs": [],
      "source": []
    },
    {
      "cell_type": "code",
      "execution_count": 4,
      "id": "55f66166",
      "metadata": {
        "id": "55f66166"
      },
      "outputs": [],
      "source": []
    }
  ],
  "metadata": {
    "kernelspec": {
      "display_name": "Python 3 (ipykernel)",
      "language": "python",
      "name": "python3"
    },
    "language_info": {
      "codemirror_mode": {
        "name": "ipython",
        "version": 3
      },
      "file_extension": ".py",
      "mimetype": "text/x-python",
      "name": "python",
      "nbconvert_exporter": "python",
      "pygments_lexer": "ipython3",
      "version": "3.9.13"
    },
    "colab": {
      "provenance": []
    }
  },
  "nbformat": 4,
  "nbformat_minor": 5
}